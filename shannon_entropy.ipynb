{
 "cells": [
  {
   "cell_type": "markdown",
   "metadata": {},
   "source": [
    "--------------------"
   ]
  },
  {
   "cell_type": "markdown",
   "metadata": {},
   "source": [
    "**Shannon entropy** is also called **entropy** generally, which quantifies the information of an event, i.e. the disorder of a random variable $X$."
   ]
  },
  {
   "cell_type": "markdown",
   "metadata": {},
   "source": [
    "The entropy is defined by following formulas:"
   ]
  },
  {
   "cell_type": "markdown",
   "metadata": {},
   "source": [
    "When $X$ is a **discrete** random variable,\n",
    "\n",
    "$$H(X) = -{\\sum_{i=1}^n P(x_i)logP(x_i)}$$"
   ]
  },
  {
   "cell_type": "markdown",
   "metadata": {},
   "source": [
    "When $X$ is a **continuous** random variable,\n",
    "\n",
    "$$H(X) = -{\\int_{\\mathcal{X}} P(x)logP(x)}dx$$"
   ]
  },
  {
   "cell_type": "markdown",
   "metadata": {},
   "source": [
    "Where:\n",
    "\n",
    "Shannon introduced the letter $H$ because of Boltzmann's $H$ theorem;\n",
    "\n",
    "$n$ is the state number of the discrete random variable $X$;\n",
    "\n",
    "$\\mathcal{X}$ is the space of the continuous random variable $X$."
   ]
  },
  {
   "cell_type": "markdown",
   "metadata": {},
   "source": [
    "----------------------------"
   ]
  },
  {
   "cell_type": "markdown",
   "metadata": {},
   "source": [
    "Let's plot the entropy of a **binary discrete random variable** $X$: $X=0$ or $X=1$."
   ]
  },
  {
   "cell_type": "code",
   "execution_count": 13,
   "metadata": {},
   "outputs": [
    {
     "data": {
      "image/png": "[encoded data removed]",
      "text/plain": [
       "<Figure size 432x288 with 1 Axes>"
      ]
     },
     "metadata": {
      "needs_background": "light"
     },
     "output_type": "display_data"
    }
   ],
   "source": [
    "import numpy as np\n",
    "import matplotlib.pyplot as plt\n",
    "import warnings\n",
    "\n",
    "\n",
    "warnings.filterwarnings(\"ignore\")\n",
    "\n",
    "x = np.arange(0, 1, 0.01)\n",
    "\n",
    "def f(x): \n",
    "    return -x*np.log(x)-(1-x)*np.log(1-x)  #binary cross-entropy\n",
    "\n",
    "f_ = np.vectorize(f)\n",
    "\n",
    "plt.xlabel('P(X=1)')\n",
    "plt.ylabel('H(X)')\n",
    "plt.plot(x, f_(x))\n",
    "plt.show()"
   ]
  },
  {
   "cell_type": "markdown",
   "metadata": {},
   "source": [
    "In fact, the above figure shows the curve of cross-entropy loss of logistic regression with respect to the probability of $X=1$.\n",
    "\n",
    "The maximal entropy occurs at the point $P(X=1)=0.5$, where the distribution of $X$ is uniform: $P(X=1)= P(X=0) = 0.5$.\n",
    "\n",
    "This result matchs exactly the entropy's definition, just because when $P(X=1)= P(X=0) = 0.5$, $X$ is uniform (most disorder)."
   ]
  },
  {
   "cell_type": "markdown",
   "metadata": {},
   "source": [
    "-----------------------"
   ]
  }
 ],
 "metadata": {
  "kernelspec": {
   "display_name": "Python 3",
   "language": "python",
   "name": "python3"
  },
  "language_info": {
   "codemirror_mode": {
    "name": "ipython",
    "version": 3
   },
   "file_extension": ".py",
   "mimetype": "text/x-python",
   "name": "python",
   "nbconvert_exporter": "python",
   "pygments_lexer": "ipython3",
   "version": "3.6.10"
  }
 },
 "nbformat": 4,
 "nbformat_minor": 4
}
